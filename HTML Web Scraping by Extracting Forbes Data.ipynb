{
 "cells": [
  {
   "cell_type": "code",
   "execution_count": 1,
   "metadata": {},
   "outputs": [],
   "source": [
    "import requests\n",
    "import pandas as pd\n",
    "import sqlite3\n",
    "import lxml.html"
   ]
  },
  {
   "cell_type": "code",
   "execution_count": 2,
   "metadata": {},
   "outputs": [],
   "source": [
    "r = requests.get(\"https://www.forbes.com/athletes/list/#tab:overall\")"
   ]
  },
  {
   "cell_type": "code",
   "execution_count": 3,
   "metadata": {},
   "outputs": [],
   "source": [
    "doc                         = lxml.html.fromstring(r.text)\n",
    "list_table_body_elements    = doc.xpath(\"//tr\")"
   ]
  },
  {
   "cell_type": "code",
   "execution_count": 4,
   "metadata": {},
   "outputs": [
    {
     "name": "stdout",
     "output_type": "stream",
     "text": [
      "\n",
      "\t\t\t\t\t \n",
      "\n",
      "\n",
      "\n",
      "\t\t\t\t\tRank\n",
      "\n",
      "\n",
      "\n",
      "\t\t\t\t\tName\n",
      "\n",
      "\n",
      "\n",
      "\t\t\t\t\tPay\n",
      "\n",
      "\n",
      "\n",
      "\t\t\t\t\tSalary/Winnings\n",
      "\n",
      "\n",
      "\n",
      "\t\t\t\t\tEndorsements\n",
      "\n",
      "\n",
      "\n",
      "\t\t\t\t\tSport\n",
      "\n",
      "\t\t\n"
     ]
    }
   ],
   "source": [
    "# header of the table\n",
    "list_table_body_elements_tb = list_table_body_elements[1:]\n",
    "print(list_table_body_elements[0].text_content())"
   ]
  },
  {
   "cell_type": "code",
   "execution_count": 5,
   "metadata": {},
   "outputs": [
    {
     "name": "stdout",
     "output_type": "stream",
     "text": [
      "[<Element td at 0x7f69fdf99c28>, <Element td at 0x7f69fdf99e08>, <Element td at 0x7f69fdf99e58>, <Element td at 0x7f69fdf99ea8>, <Element td at 0x7f69fdf99ef8>, <Element td at 0x7f69fdf99f48>, <Element td at 0x7f69fdf99f98>]\n",
      "\n"
     ]
    }
   ],
   "source": [
    "# header of the table\n",
    "for row in list_table_body_elements_tb[:1]:\n",
    "    print(row.getchildren())\n",
    "    print(row[0].text_content())"
   ]
  },
  {
   "cell_type": "code",
   "execution_count": 6,
   "metadata": {},
   "outputs": [
    {
     "data": {
      "text/plain": [
       "92"
      ]
     },
     "execution_count": 6,
     "metadata": {},
     "output_type": "execute_result"
    }
   ],
   "source": [
    "len( row.text_content()[0:]) #Althlets in the table"
   ]
  },
  {
   "cell_type": "code",
   "execution_count": 7,
   "metadata": {},
   "outputs": [
    {
     "name": "stdout",
     "output_type": "stream",
     "text": [
      "RANK:             \n",
      "NAME:             [RANK]\n",
      "PAY:              [NAME]\n",
      "SALARY:           [PAY]\n",
      "ENDORSEMENTS:     [SALARY]\n",
      "SPORT:            [ENDORSEMENTS]\n"
     ]
    }
   ],
   "source": [
    "print(\"RANK:            \", row.getchildren()[0].text_content().strip())\n",
    "print(\"NAME:            \", row.getchildren()[1].text_content().strip())\n",
    "print(\"PAY:             \", row.getchildren()[2].text_content().strip())\n",
    "print(\"SALARY:          \", row.getchildren()[3].text_content().strip())\n",
    "print(\"ENDORSEMENTS:    \", row.getchildren()[4].text_content().strip())\n",
    "print(\"SPORT:           \", row.getchildren()[5].text_content().strip())\n"
   ]
  },
  {
   "cell_type": "code",
   "execution_count": 12,
   "metadata": {},
   "outputs": [
    {
     "ename": "AttributeError",
     "evalue": "'DataFrame' object has no attribute 'name'",
     "output_type": "error",
     "traceback": [
      "\u001b[0;31m---------------------------------------------------------------------------\u001b[0m",
      "\u001b[0;31mAttributeError\u001b[0m                            Traceback (most recent call last)",
      "\u001b[0;32m<ipython-input-12-e5ee6a91e65e>\u001b[0m in \u001b[0;36m<module>\u001b[0;34m\u001b[0m\n\u001b[1;32m      1\u001b[0m \u001b[0mdf\u001b[0m \u001b[0;34m=\u001b[0m \u001b[0mpd\u001b[0m\u001b[0;34m.\u001b[0m\u001b[0mDataFrame\u001b[0m\u001b[0;34m(\u001b[0m\u001b[0mdoc\u001b[0m\u001b[0;34m)\u001b[0m\u001b[0;34m\u001b[0m\u001b[0;34m\u001b[0m\u001b[0m\n\u001b[0;32m----> 2\u001b[0;31m \u001b[0mdf\u001b[0m\u001b[0;34m[\u001b[0m\u001b[0mdf\u001b[0m\u001b[0;34m.\u001b[0m\u001b[0mname\u001b[0m \u001b[0;34m==\u001b[0m\u001b[0;34m\"LeBron James\"\u001b[0m\u001b[0;34m]\u001b[0m\u001b[0;34m\u001b[0m\u001b[0;34m\u001b[0m\u001b[0m\n\u001b[0m",
      "\u001b[0;32m~/anaconda3/lib/python3.7/site-packages/pandas/core/generic.py\u001b[0m in \u001b[0;36m__getattr__\u001b[0;34m(self, name)\u001b[0m\n\u001b[1;32m   5178\u001b[0m             \u001b[0;32mif\u001b[0m \u001b[0mself\u001b[0m\u001b[0;34m.\u001b[0m\u001b[0m_info_axis\u001b[0m\u001b[0;34m.\u001b[0m\u001b[0m_can_hold_identifiers_and_holds_name\u001b[0m\u001b[0;34m(\u001b[0m\u001b[0mname\u001b[0m\u001b[0;34m)\u001b[0m\u001b[0;34m:\u001b[0m\u001b[0;34m\u001b[0m\u001b[0;34m\u001b[0m\u001b[0m\n\u001b[1;32m   5179\u001b[0m                 \u001b[0;32mreturn\u001b[0m \u001b[0mself\u001b[0m\u001b[0;34m[\u001b[0m\u001b[0mname\u001b[0m\u001b[0;34m]\u001b[0m\u001b[0;34m\u001b[0m\u001b[0;34m\u001b[0m\u001b[0m\n\u001b[0;32m-> 5180\u001b[0;31m             \u001b[0;32mreturn\u001b[0m \u001b[0mobject\u001b[0m\u001b[0;34m.\u001b[0m\u001b[0m__getattribute__\u001b[0m\u001b[0;34m(\u001b[0m\u001b[0mself\u001b[0m\u001b[0;34m,\u001b[0m \u001b[0mname\u001b[0m\u001b[0;34m)\u001b[0m\u001b[0;34m\u001b[0m\u001b[0;34m\u001b[0m\u001b[0m\n\u001b[0m\u001b[1;32m   5181\u001b[0m \u001b[0;34m\u001b[0m\u001b[0m\n\u001b[1;32m   5182\u001b[0m     \u001b[0;32mdef\u001b[0m \u001b[0m__setattr__\u001b[0m\u001b[0;34m(\u001b[0m\u001b[0mself\u001b[0m\u001b[0;34m,\u001b[0m \u001b[0mname\u001b[0m\u001b[0;34m,\u001b[0m \u001b[0mvalue\u001b[0m\u001b[0;34m)\u001b[0m\u001b[0;34m:\u001b[0m\u001b[0;34m\u001b[0m\u001b[0;34m\u001b[0m\u001b[0m\n",
      "\u001b[0;31mAttributeError\u001b[0m: 'DataFrame' object has no attribute 'name'"
     ]
    }
   ],
   "source": [
    "df = pd.DataFrame(doc)\n",
    "df[df.name ==\"LeBron James\"]"
   ]
  },
  {
   "cell_type": "code",
   "execution_count": 192,
   "metadata": {},
   "outputs": [
    {
     "ename": "OperationalError",
     "evalue": "near \"/\": syntax error",
     "output_type": "error",
     "traceback": [
      "\u001b[0;31m---------------------------------------------------------------------------\u001b[0m",
      "\u001b[0;31mOperationalError\u001b[0m                          Traceback (most recent call last)",
      "\u001b[0;32m<ipython-input-192-51f4acc225a0>\u001b[0m in \u001b[0;36m<module>\u001b[0;34m()\u001b[0m\n\u001b[1;32m      9\u001b[0m                             \u001b[0mEndorsements\u001b[0m\u001b[0;34m,\u001b[0m\u001b[0;34m\u001b[0m\u001b[0m\n\u001b[1;32m     10\u001b[0m                             Sport)\n\u001b[0;32m---> 11\u001b[0;31m \"\"\")\n\u001b[0m\u001b[1;32m     12\u001b[0m \u001b[0;34m\u001b[0m\u001b[0m\n\u001b[1;32m     13\u001b[0m \u001b[0;32mfor\u001b[0m \u001b[0mrow\u001b[0m \u001b[0;32min\u001b[0m \u001b[0mrow\u001b[0m\u001b[0;34m.\u001b[0m\u001b[0mgetchildren\u001b[0m\u001b[0;34m(\u001b[0m\u001b[0;34m)\u001b[0m\u001b[0;34m[\u001b[0m\u001b[0;36m2\u001b[0m\u001b[0;34m:\u001b[0m\u001b[0;34m]\u001b[0m\u001b[0;34m:\u001b[0m\u001b[0;34m\u001b[0m\u001b[0m\n",
      "\u001b[0;31mOperationalError\u001b[0m: near \"/\": syntax error"
     ]
    }
   ],
   "source": [
    "db = sqlite3.connect(':memory:')\n",
    "cursor   = db.cursor()\n",
    "\n",
    "_        =cursor.execute(\"\"\"\n",
    "    CREATE TABLE IF NOT EXISTS RANK(Rank, \n",
    "                            Name,\n",
    "                            Pay,\n",
    "                            Salary/Winnings,\n",
    "                            Endorsements,\n",
    "                            Sport)\n",
    "\"\"\")\n",
    "\n",
    "for row in row.getchildren()[2:]:\n",
    "    cursor.execute(\"\"\"\n",
    "            INSERT INTO RAANK(Rank\n",
    "                            Name,\n",
    "                            Pay,\n",
    "                            Salary/Winnings,\n",
    "                            Endorsements,\n",
    "                            Sport)\n",
    "            VALUES(?,?,?,?)\n",
    "    \"\"\", (row.getchildren()[1].text_content(), row.getchildren()[2].text_content(), row.getchildren()[3].text_content(), row.getchildren()[4].text_content(), row.getchildren()[5].text_content()))\n",
    "db.commit()\n",
    "\n",
    "cursor.execute(\"\"\"\n",
    "    SELECT * FROM RANK\n",
    "\"\"\")\n",
    "\n",
    "db.commit()\n",
    "#print(c.fetchmany(10))"
   ]
  },
  {
   "cell_type": "code",
   "execution_count": 191,
   "metadata": {},
   "outputs": [],
   "source": [
    "#setting up a pandas dictionary\n",
    "data = {\n",
    "    \"rank\":            [],\n",
    "    \"name\":            [],\n",
    "    \"pay\":             [], \n",
    "    \"salary/winnings\": [], \n",
    "    \"endorsements\":    [],\n",
    "    \"sport\":           [] \n",
    "    \n",
    "}\n",
    "\n",
    "#for row in c.fetchall():\n",
    "\n",
    "for row in list_table_body_elements_tb [:1]:\n",
    "    cells = row.getchildren()\n",
    "    \n",
    "    data[\"rank\"].append(            cells[0].text_content().strip() )\n",
    "    data[\"name\"].append(            cells[1].text_content().strip() )\n",
    "    data[\"pay\"].append(             cells[2].text_content().strip() )\n",
    "    data[\"salary/winnings\"].append( cells[3].text_content().strip() )\n",
    "    data[\"endorsements\"].append(    cells[4].text_content().strip() )\n",
    "    data[\"sport\"].append(           cells[5].text_content().strip() )\n",
    "\n",
    "    df = pd.DataFrame(data)\n",
    "    df"
   ]
  },
  {
   "cell_type": "code",
   "execution_count": 201,
   "metadata": {},
   "outputs": [
    {
     "data": {
      "text/plain": [
       "['[RANK]']"
      ]
     },
     "execution_count": 201,
     "metadata": {},
     "output_type": "execute_result"
    }
   ],
   "source": [
    "data[\"name\"]"
   ]
  },
  {
   "cell_type": "code",
   "execution_count": null,
   "metadata": {},
   "outputs": [],
   "source": []
  }
 ],
 "metadata": {
  "kernelspec": {
   "display_name": "Python 3",
   "language": "python",
   "name": "python3"
  },
  "language_info": {
   "codemirror_mode": {
    "name": "ipython",
    "version": 3
   },
   "file_extension": ".py",
   "mimetype": "text/x-python",
   "name": "python",
   "nbconvert_exporter": "python",
   "pygments_lexer": "ipython3",
   "version": "3.7.3"
  }
 },
 "nbformat": 4,
 "nbformat_minor": 4
}
